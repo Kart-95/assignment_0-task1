{
  "nbformat": 4,
  "nbformat_minor": 0,
  "metadata": {
    "colab": {
      "name": "assignment task1",
      "provenance": [],
      "collapsed_sections": [],
      "authorship_tag": "ABX9TyPIUHztau+LxHYrYRXARSaG",
      "include_colab_link": true
    },
    "kernelspec": {
      "name": "python3",
      "display_name": "Python 3"
    },
    "language_info": {
      "name": "python"
    }
  },
  "cells": [
    {
      "cell_type": "markdown",
      "metadata": {
        "id": "view-in-github",
        "colab_type": "text"
      },
      "source": [
        "<a href=\"https://colab.research.google.com/github/Kart-95/assignment_0-task1/blob/main/assignment_task1.ipynb\" target=\"_parent\"><img src=\"https://colab.research.google.com/assets/colab-badge.svg\" alt=\"Open In Colab\"/></a>"
      ]
    },
    {
      "cell_type": "code",
      "source": [
        "import os\n",
        "def validation():\n",
        "  email=input(\"please enter your email id/username = \")\n",
        "  if email[0].isalpha():\n",
        "    count=1\n",
        "    for i in range(len(email)):\n",
        "      if email[i]==\"@\" and email[i+1]!=\".\":\n",
        "        temp=i\n",
        "        count-=1\n",
        "    if count==1:\n",
        "      print(\"Please enter a valid email ID (email should have '@' and '.', and there should not be any '.' immediate next to '@')\")\n",
        "      return validation()\n",
        "    for j in range(0,temp+1):\n",
        "      if email[j]==\".\":\n",
        "        print(\"please enter a valid email ID (email should not have '.' and then followed by '@')\")\n",
        "        return validation()\n",
        "      if j==temp:\n",
        "        return email\n",
        "  else:\n",
        "    print(\"Please enter a valid email ID (it should not start with special characters and numbers)\")\n",
        "    return validation()\n",
        "\n",
        "def passwordvalidation(email):\n",
        "  password=input(\"Please enter your password = \")\n",
        "  if len(password)>5 and len(password)<16:\n",
        "    spchar=\"!@#$%^&*()-+?}{_=,<>/\"\n",
        "    countup=0\n",
        "    countlo=0\n",
        "    if any(c in spchar for c in password):\n",
        "      number= \"0123456789\"\n",
        "      if any(c in number for c in password):\n",
        "        for i in password:\n",
        "          if i.isupper():\n",
        "            countup+=1\n",
        "          if i.islower():\n",
        "            countlo+=1\n",
        "        if countup==0 or countlo==0:\n",
        "          print(\"password must contain one uppercase and one lowercase letter\")\n",
        "          return passwordvalidation()\n",
        "        if countup>=1 and countlo>=1:\n",
        "          print(\"successfully registered\")\n",
        "          file = open(\"task1.txt\",'w')\n",
        "          file.write(email+\"\\n\")\n",
        "          file.write(password)\n",
        "          file.close()\n",
        "          return password          \n",
        "      else:\n",
        "        print(\"password must contain a digit(number) \")\n",
        "        return passwordvalidation()\n",
        "    else:\n",
        "      print(\"password must contain a special character\")\n",
        "      return passwordvalidation()\n",
        "  else:\n",
        "    print(\"password length must be of max 16character and min of 5character\")\n",
        "    return passwordvalidation()\n",
        "\n",
        "def passw(d):\n",
        "  passlog=input(\"enter your password = \")\n",
        "  if passlog==\"forget password\":\n",
        "    print(\"your pasword is = \", d)    \n",
        "  if passlog==d:\n",
        "    print(\"successfully logged in\")\n",
        "  else:\n",
        "    print(\"Password incorrect. Please try again or enter 'forget password' \")\n",
        "    return passw(d)\n",
        "\n",
        "def logloop():\n",
        "  log=int(input(\"Enter '1' to register or '2' to Login\"))\n",
        "  if log==1:\n",
        "    a=validation()\n",
        "    b=passwordvalidation(a)\n",
        "    text=[]\n",
        "    file=open(\"task1.txt\",'r')\n",
        "    text=file.readlines()\n",
        "    file.close()\n",
        "  if log==2:\n",
        "    text=[]\n",
        "    file=open(\"task1.txt\",'r')\n",
        "    text=file.readlines()\n",
        "    file.close()\n",
        "    f_ile='task1.txt'\n",
        "    if os.stat(f_ile).st_size!=0:\n",
        "      c=(text[0].strip())\n",
        "      d=(text[1].strip())    \n",
        "      login=input(\"Enter your email id/username = \")\n",
        "      if c==login:\n",
        "        passw(d)\n",
        "        \n",
        "      if c!=login:\n",
        "        print(\"username doesn't exist. Please register\")\n",
        "        return logloop()\n",
        "    else:\n",
        "      login=input(\"Enter your email id/username = \")\n",
        "      print(\"username doesn't exist. Please register\")\n",
        "      return logloop()\n",
        "logloop()\n"
      ],
      "metadata": {
        "colab": {
          "base_uri": "https://localhost:8080/"
        },
        "id": "GRMqP1BdYHLe",
        "outputId": "0ac3659b-3136-4c43-b535-b1fbe067802e"
      },
      "execution_count": null,
      "outputs": [
        {
          "output_type": "stream",
          "name": "stdout",
          "text": [
            "Enter '1' to register or '2' to Login2\n",
            "Enter your email id/username = kart@gmail.com\n",
            "enter your password = kart123\n",
            "Password incorrect. Please try again or enter 'forget password' \n",
            "enter your password = forget password\n",
            "your pasword is =  Kart@123\n",
            "Password incorrect. Please try again or enter 'forget password' \n",
            "enter your password = Kart@123\n",
            "successfully logged in\n"
          ]
        }
      ]
    }
  ]
}